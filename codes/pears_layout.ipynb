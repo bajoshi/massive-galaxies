{
 "cells": [
  {
   "cell_type": "code",
   "execution_count": 177,
   "metadata": {
    "collapsed": true,
    "nbpresent": {
     "id": "31c24318-3d39-492a-9d1e-e8af34ea8435"
    }
   },
   "outputs": [],
   "source": [
    "from __future__ import division\n",
    "\n",
    "import numpy as np\n",
    "from astropy.io import fits\n",
    "from astropy.wcs import WCS\n",
    "\n",
    "import os\n",
    "import sys"
   ]
  },
  {
   "cell_type": "code",
   "execution_count": 178,
   "metadata": {
    "collapsed": true,
    "nbpresent": {
     "id": "5c27e00d-0df3-444e-ac7e-f5c3dda9059f"
    }
   },
   "outputs": [],
   "source": [
    "%matplotlib inline\n",
    "%config InlineBackend.figure_format = 'retina'\n",
    "from matplotlib import rcParams\n",
    "rcParams[\"font.size\"] = 10\n",
    "rcParams[\"font.family\"] = \"sans-serif\"\n",
    "rcParams[\"font.sans-serif\"] = [\"Computer Modern Sans\"]\n",
    "rcParams[\"text.usetex\"] = True\n",
    "rcParams[\"text.latex.preamble\"] = r\"\\usepackage{cmbright}\"\n",
    "\n",
    "import matplotlib.pyplot as plt\n",
    "from matplotlib.offsetbox import AnchoredOffsetbox, TextArea, AnchoredText\n",
    "from matplotlib.patches import Rectangle"
   ]
  },
  {
   "cell_type": "code",
   "execution_count": 179,
   "metadata": {
    "collapsed": true,
    "nbpresent": {
     "id": "ff5bd4ad-c24c-4725-bda4-778b7306a707"
    }
   },
   "outputs": [],
   "source": [
    "home = os.getenv('HOME')"
   ]
  },
  {
   "cell_type": "code",
   "execution_count": 180,
   "metadata": {
    "collapsed": true,
    "nbpresent": {
     "id": "0e60a4e0-a3fe-445f-8736-6577055ed31e"
    }
   },
   "outputs": [],
   "source": [
    "# Read in pointings information\n",
    "names_header = ['dataset', 'targ_name', 'ra', 'dec', 'exp_time', 'inst', 'camera', 'filter']\n",
    "\n",
    "pears_pt = np.genfromtxt(home + '/Desktop/FIGS/pears_pointings.txt', delimiter=',',\n",
    "     dtype=None, names=names_header, skip_header=11)"
   ]
  },
  {
   "cell_type": "code",
   "execution_count": 181,
   "metadata": {
    "collapsed": true,
    "nbpresent": {
     "id": "b41ad207-7e60-420a-91f9-d885512839a7"
    }
   },
   "outputs": [],
   "source": [
    "# define FOV for ACS in degrees\n",
    "acs_fov = 202/3600  # it is 202 arcseconds on a side"
   ]
  },
  {
   "cell_type": "code",
   "execution_count": 182,
   "metadata": {
    "collapsed": true,
    "nbpresent": {
     "id": "93ce93ae-86e0-42ce-9dd7-412e7fff2a8e"
    }
   },
   "outputs": [],
   "source": [
    "# define functions to convert sexagesimal to degrees\n",
    "def get_ra_deg(ra_str):\n",
    "    hr, ramin, rasec = np.asarray(ra_str.split(' ')).astype(np.float)\n",
    "    ra = hr*15 + (ramin*15/60) + (rasec*15/3600)\n",
    "    return ra\n",
    "\n",
    "def get_dec_deg(dec_str):\n",
    "    deg, arcmin, arcsec = np.asarray(dec_str.split(' ')).astype(np.float)\n",
    "    if deg < 0.0:\n",
    "        dec = deg - (arcmin/60) - (arcsec/3600)\n",
    "    elif deg >= 0.0:\n",
    "        dec = deg + (arcmin/60) + (arcsec/3600)\n",
    "    return dec"
   ]
  },
  {
   "cell_type": "code",
   "execution_count": 183,
   "metadata": {
    "collapsed": true,
    "nbpresent": {
     "id": "ca9bae9b-55da-458b-a37c-ba765778e21c"
    }
   },
   "outputs": [],
   "source": [
    "# Convert the sexagesimal coordinates to degrees and then\n",
    "# Separate RA and DEC for north and south\n",
    "pears_ra = np.zeros(len(pears_pt))\n",
    "pears_dec = np.zeros(len(pears_pt))\n",
    "\n",
    "for i in range(len(pears_pt)):\n",
    "\n",
    "    pears_ra[i] = get_ra_deg(pears_pt['ra'][i])\n",
    "    pears_dec[i] = get_dec_deg(pears_pt['dec'][i])\n",
    "\n",
    "pears_north_ind = np.where(pears_dec >= 0)[0]\n",
    "pears_north_ra = pears_ra[pears_north_ind]\n",
    "pears_north_dec = pears_dec[pears_north_ind]\n",
    "\n",
    "pears_south_ind = np.where(pears_dec < 0)[0]\n",
    "pears_south_ra = pears_ra[pears_south_ind]\n",
    "pears_south_dec = pears_dec[pears_south_ind]"
   ]
  },
  {
   "cell_type": "code",
   "execution_count": 184,
   "metadata": {
    "nbpresent": {
     "id": "5c448062-edd6-4095-996a-cba57def1b5b"
    }
   },
   "outputs": [],
   "source": [
    "# read in dummy WCS\n",
    "goodsn_full = fits.open(home + '/Desktop/FIGS/total_north_F814W.fits')\n",
    "goodss_full = fits.open(home + '/Desktop/FIGS/GOODS-S.ACS.F814W.fits')\n",
    "wcs_north = WCS(goodsn_full[0].header)\n",
    "wcs_south = WCS(goodss_full[0].header)"
   ]
  },
  {
   "cell_type": "code",
   "execution_count": 189,
   "metadata": {
    "nbpresent": {
     "id": "c99bd029-be0a-45b9-ae97-33d60393bf31"
    }
   },
   "outputs": [],
   "source": [
    "# select only PEARS north prime ACS obits \n",
    "pears_acs_north_ind = np.where((pears_pt['inst'] == 'ACS') & (pears_dec >= 0) \\\n",
    "                                & (pears_pt['filter'] == 'G800L;CLEAR2L'))[0]\n",
    "\n",
    "pears_north_ra_prime = np.zeros(len(pears_acs_north_ind))\n",
    "pears_north_dec_prime = np.zeros(len(pears_acs_north_ind))\n",
    "                                 \n",
    "# convert to degrees again\n",
    "for j in range(len(pears_pt['ra'][pears_acs_north_ind])):\n",
    "    \n",
    "    pears_north_ra_prime[j] = get_ra_deg(pears_pt['ra'][pears_acs_north_ind][j])\n",
    "    pears_north_dec_prime[j] = get_dec_deg(pears_pt['dec'][pears_acs_north_ind][j])"
   ]
  },
  {
   "cell_type": "code",
   "execution_count": 190,
   "metadata": {
    "nbpresent": {
     "id": "6c381857-a7fc-489c-bf95-71648222b507"
    }
   },
   "outputs": [],
   "source": [
    "# make figure\n",
    "fig = plt.figure(figsize=(8,6))\n",
    "ax = fig.add_subplot(111, projection=wcs_north)\n",
    "\n",
    "ax.set_xlabel('Right Ascension', labelpad=1)\n",
    "ax.set_ylabel('Declination', labelpad=-0.2)\n",
    "\n",
    "shp = goodsn_full[0].data.shape\n",
    "ax.imshow(np.zeros(shp), origin='lower', cmap='Greys')\n",
    "\n",
    "ax.set_autoscale_on(False)\n",
    "\n",
    "# Need to get the orients right. Right now it doesn't show any orient.\n",
    "for k in range(len(pears_north_ra_prime)):\n",
    "    \n",
    "    r = Rectangle((pears_north_ra_prime[k], pears_north_dec_prime[k]), \\\n",
    "                  acs_fov/np.cos(pears_north_dec_prime[k]*np.pi/180), acs_fov, \\\n",
    "                  edgecolor='red', lw=1, facecolor='none', transform=ax.get_transform('fk5'))\n",
    "    # format in the line above is (ra, dec), width, height,...\n",
    "    ax.add_patch(r)\n",
    "\n",
    "ax.grid(True)\n",
    "fig.savefig(home + '/Desktop/FIGS/pears_north_layout.eps', dpi=300, bbox_inches='tight')\n",
    "\n",
    "plt.cla()\n",
    "plt.clf()\n",
    "plt.close()"
   ]
  },
  {
   "cell_type": "code",
   "execution_count": 191,
   "metadata": {
    "collapsed": true,
    "nbpresent": {
     "id": "500c3c92-a469-45a5-9bb5-24550c27a4a3"
    }
   },
   "outputs": [],
   "source": [
    "##### SOUTH #####\n",
    "# select only PEARS south prime ACS obits \n",
    "pears_acs_south_ind = np.where((pears_pt['inst'] == 'ACS') & (pears_dec < 0) \\\n",
    "                                & (pears_pt['filter'] == 'G800L;CLEAR2L'))[0]\n",
    "\n",
    "pears_south_ra_prime = np.zeros(len(pears_acs_south_ind))\n",
    "pears_south_dec_prime = np.zeros(len(pears_acs_south_ind))\n",
    "                                 \n",
    "# convert to degrees again\n",
    "for j in range(len(pears_pt['ra'][pears_acs_south_ind])):\n",
    "    \n",
    "    pears_south_ra_prime[j] = get_ra_deg(pears_pt['ra'][pears_acs_south_ind][j])\n",
    "    pears_south_dec_prime[j] = get_dec_deg(pears_pt['dec'][pears_acs_south_ind][j])"
   ]
  },
  {
   "cell_type": "code",
   "execution_count": 192,
   "metadata": {
    "collapsed": true,
    "nbpresent": {
     "id": "552e36fa-8ec7-4de4-9656-fe37b888af52"
    }
   },
   "outputs": [],
   "source": [
    "# make figure\n",
    "fig = plt.figure(figsize=(8,6))\n",
    "ax = fig.add_subplot(111, projection=wcs_south)\n",
    "\n",
    "ax.set_xlabel('Right Ascension', labelpad=1)\n",
    "ax.set_ylabel('Declination', labelpad=-0.2)\n",
    "\n",
    "shp = goodss_full[0].data.shape\n",
    "ax.imshow(np.zeros(shp), origin='lower', cmap='Greys')\n",
    "\n",
    "ax.set_autoscale_on(False)\n",
    "\n",
    "# Need to get the orients right. Right now it doesn't show any orient.\n",
    "for k in range(len(pears_south_ra_prime)):\n",
    "    \n",
    "    r = Rectangle((pears_south_ra_prime[k], pears_south_dec_prime[k]), \\\n",
    "                  acs_fov/np.cos(pears_south_dec_prime[k]*np.pi/180), acs_fov, \\\n",
    "                  edgecolor='red', lw=1, facecolor='none', transform=ax.get_transform('fk5'))\n",
    "    # format in the line above is (ra, dec), width, height,...\n",
    "    ax.add_patch(r)\n",
    "\n",
    "ax.grid(True)\n",
    "fig.savefig(home + '/Desktop/FIGS/pears_south_layout.eps', dpi=300, bbox_inches='tight')\n",
    "\n",
    "plt.cla()\n",
    "plt.clf()\n",
    "plt.close()"
   ]
  }
 ],
 "metadata": {
  "kernelspec": {
   "display_name": "Python 2",
   "language": "python",
   "name": "python2"
  },
  "language_info": {
   "codemirror_mode": {
    "name": "ipython",
    "version": 2
   },
   "file_extension": ".py",
   "mimetype": "text/x-python",
   "name": "python",
   "nbconvert_exporter": "python",
   "pygments_lexer": "ipython2",
   "version": "2.7.14"
  }
 },
 "nbformat": 4,
 "nbformat_minor": 2
}
